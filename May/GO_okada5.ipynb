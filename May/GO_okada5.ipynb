{
 "cells": [
  {
   "cell_type": "code",
   "execution_count": 17,
   "metadata": {},
   "outputs": [
    {
     "data": {
      "text/html": [
       "'data.frame'"
      ],
      "text/latex": [
       "'data.frame'"
      ],
      "text/markdown": [
       "'data.frame'"
      ],
      "text/plain": [
       "[1] \"data.frame\""
      ]
     },
     "metadata": {},
     "output_type": "display_data"
    },
    {
     "data": {
      "text/html": [
       "12"
      ],
      "text/latex": [
       "12"
      ],
      "text/markdown": [
       "12"
      ],
      "text/plain": [
       "[1] 12"
      ]
     },
     "metadata": {},
     "output_type": "display_data"
    },
    {
     "data": {
      "text/html": [
       "'data.frame'"
      ],
      "text/latex": [
       "'data.frame'"
      ],
      "text/markdown": [
       "'data.frame'"
      ],
      "text/plain": [
       "[1] \"data.frame\""
      ]
     },
     "metadata": {},
     "output_type": "display_data"
    },
    {
     "data": {
      "text/html": [
       "'data.frame'"
      ],
      "text/latex": [
       "'data.frame'"
      ],
      "text/markdown": [
       "'data.frame'"
      ],
      "text/plain": [
       "[1] \"data.frame\""
      ]
     },
     "metadata": {},
     "output_type": "display_data"
    },
    {
     "data": {
      "text/html": [
       "10.5"
      ],
      "text/latex": [
       "10.5"
      ],
      "text/markdown": [
       "10.5"
      ],
      "text/plain": [
       "[1] 10.5"
      ]
     },
     "metadata": {},
     "output_type": "display_data"
    },
    {
     "data": {
      "text/html": [
       "<table>\n",
       "<thead><tr><th scope=col>mean</th></tr></thead>\n",
       "<tbody>\n",
       "\t<tr><td>10.5</td></tr>\n",
       "</tbody>\n",
       "</table>\n"
      ],
      "text/latex": [
       "\\begin{tabular}{r|l}\n",
       " mean\\\\\n",
       "\\hline\n",
       "\t 10.5\\\\\n",
       "\\end{tabular}\n"
      ],
      "text/markdown": [
       "\n",
       "mean | \n",
       "|---|\n",
       "| 10.5 | \n",
       "\n",
       "\n"
      ],
      "text/plain": [
       "  mean\n",
       "1 10.5"
      ]
     },
     "metadata": {},
     "output_type": "display_data"
    }
   ],
   "source": [
    "#P13, Exercise \n",
    "library(dplyr)\n",
    "data <- read.csv(\"C:/Users/pengu/Documents/msleep_ggplot2.csv\")\n",
    "\n",
    "#1\n",
    "class(data)\n",
    "\n",
    "#2\n",
    "data_sub2 <- filter(data,order==\"Primates\")\n",
    "nrow(data_sub2)\n",
    "\n",
    "#3\n",
    "class(data_sub2)\n",
    "\n",
    "#4\n",
    "data_sub3 <- (filter(data,order==\"Primates\") %>% select(sleep_total))\n",
    "class(data_sub3)\n",
    "\n",
    "#5\n",
    "mean(unlist(data_sub3))\n",
    "\n",
    "#6\n",
    "filter(data,order==\"Primates\") %>% summarise(mean=mean(sleep_total))"
   ]
  },
  {
   "cell_type": "code",
   "execution_count": 18,
   "metadata": {},
   "outputs": [
    {
     "name": "stderr",
     "output_type": "stream",
     "text": [
      "Warning message:\n",
      "\"package 'downloader' was built under R version 3.4.4\""
     ]
    },
    {
     "data": {
      "text/html": [
       "0.028"
      ],
      "text/latex": [
       "0.028"
      ],
      "text/markdown": [
       "0.028"
      ],
      "text/plain": [
       "[1] 0.028"
      ]
     },
     "metadata": {},
     "output_type": "display_data"
    },
    {
     "data": {
      "image/png": "[encoded data removed]",
      "text/plain": [
       "Plot with title \"Histogram of null_dist\""
      ]
     },
     "metadata": {},
     "output_type": "display_data"
    }
   ],
   "source": [
    "#P85, Exersises\n",
    "library(downloader)\n",
    "url <- \"https://raw.githubusercontent.com/genomicsclass/dagdata/master/inst/extd\\\n",
    "ata/babies.txt\"\n",
    "filename <- basename(url)\n",
    "download(url, destfile=filename)\n",
    "babies <- read.table(\"babies.txt\", header=TRUE)\n",
    "bwt.nonsmoke <- filter(babies, smoke==0) %>% select(bwt) %>% unlist\n",
    "bwt.smoke <- filter(babies, smoke==1) %>% select(bwt) %>% unlist\n",
    "\n",
    "#the difference of mean value\n",
    "N=10\n",
    "set.seed(1)\n",
    "nonsmokers <- sample(bwt.nonsmoke , N)\n",
    "smokers <- sample(bwt.smoke , N)\n",
    "obs <- mean(smokers) - mean(nonsmokers)\n",
    "obs_median <-  median(smokers)-median(nonsmokers)\n",
    "\n",
    "#Permutation and calculate null distribution\n",
    "num <- 1000\n",
    "null_dist <- rep(NA,num)\n",
    "for(i in 1:num){\n",
    "  dat <- c(smokers,nonsmokers)\n",
    "  shuffle <- sample( dat )\n",
    "  smokersstar <- shuffle[1:N]\n",
    "  nonsmokersstar <- shuffle[(N+1):(2*N)]\n",
    "  null_dist[i] <- mean(smokersstar)-mean(nonsmokersstar)\n",
    "}\n",
    "hist(null_dist)\n",
    "\n",
    "#Calculate p value of  one-sided test\n",
    "sum(obs>null_dist)/num\n"
   ]
  },
  {
   "cell_type": "code",
   "execution_count": 19,
   "metadata": {},
   "outputs": [
    {
     "data": {
      "text/html": [
       "0.007"
      ],
      "text/latex": [
       "0.007"
      ],
      "text/markdown": [
       "0.007"
      ],
      "text/plain": [
       "[1] 0.007"
      ]
     },
     "metadata": {},
     "output_type": "display_data"
    },
    {
     "data": {
      "image/png": "[encoded data removed]",
      "text/plain": [
       "Plot with title \"Histogram of null_dist\""
      ]
     },
     "metadata": {},
     "output_type": "display_data"
    }
   ],
   "source": [
    "#In the case of median value\n",
    "num <- 1000\n",
    "null_dist <- rep(NA,num)\n",
    "for(i in 1:num){\n",
    "  dat <- c(smokers,nonsmokers)\n",
    "  shuffle <- sample( dat )\n",
    "  smokersstar <- shuffle[1:N]\n",
    "  nonsmokersstar <- shuffle[(N+1):(2*N)]\n",
    "  null_dist[i] <- median(smokersstar)-median(nonsmokersstar)\n",
    "}\n",
    "hist(null_dist)\n",
    "\n",
    "#Calculate p value of  one-sided test\n",
    "sum(obs_median>null_dist)/num"
   ]
  },
  {
   "cell_type": "code",
   "execution_count": null,
   "metadata": {},
   "outputs": [],
   "source": []
  }
 ],
 "metadata": {
  "kernelspec": {
   "display_name": "R",
   "language": "R",
   "name": "ir"
  },
  "language_info": {
   "codemirror_mode": "r",
   "file_extension": ".r",
   "mimetype": "text/x-r-source",
   "name": "R",
   "pygments_lexer": "r",
   "version": "3.4.1"
  }
 },
 "nbformat": 4,
 "nbformat_minor": 2
}

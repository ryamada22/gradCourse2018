{
 "cells": [
  {
   "cell_type": "markdown",
   "metadata": {},
   "source": [
    "DNAとRNAの配列の作成・読み込みおよびファイルの書き換えについてのマニュアルを作成した。\n",
    "\n",
    "## 学習できること\n",
    "### 1. (multi-)FASTA形式の配列について\n",
    "### 2. ファイルへのデータの書き込み, 読み込み\n",
    "### 3. Biopythonを用いた配列の取り扱い, 計算\n",
    "### 4. 関数の作り方\n",
    "### 5. リスト内包表記"
   ]
  },
  {
   "cell_type": "markdown",
   "metadata": {},
   "source": [
    "<b>Biopython</b>という分子生物学系の計算に特化したpythonのパッケージがあるため, 今回はBiopythonを使用して配列を取り扱う <br>\n",
    "まずはBiopythonをインストールする<br>"
   ]
  },
  {
   "cell_type": "markdown",
   "metadata": {},
   "source": [
    "<i><b>コマンドラインで</b></i>   \n",
    "\n",
    "pip install biopython   \n",
    "\n",
    "と打ち込む (https://biopython.org/wiki/Download)"
   ]
  },
  {
   "cell_type": "markdown",
   "metadata": {},
   "source": [
    "# multi-FASTA形式のファイルを作って読み込み, 計算し, 改変する\n",
    "\n",
    "## 1. multi-FASTA形式のファイルを作成する"
   ]
  },
  {
   "cell_type": "markdown",
   "metadata": {},
   "source": [
    "DNAなどの配列情報が保存されている形式にFASTA形式がある. <br>\n",
    "FASTA形式では > 記号の後に配列の名前, 説明などが記録され, 次の行から配列が記録されている. <br>\n",
    "sampleDNAという名前で長さ20 (length=20というdescriptionもあり) のDNAをFASTA形式で表記した例を以下に示す.<br>"
   ]
  },
  {
   "cell_type": "raw",
   "metadata": {},
   "source": [
    ">sampleDNA length=20　<br>\n",
    "AAGGCCTTAAGGCCTTAAGG <br>"
   ]
  },
  {
   "cell_type": "markdown",
   "metadata": {},
   "source": [
    "multi-FASTA形式は以下の例に示すように複数のFASTA形式から構成されている."
   ]
  },
  {
   "cell_type": "raw",
   "metadata": {},
   "source": [
    ">sampleDNA length=20 <br>\n",
    "AAGGCCTTAAGGCCTTAAGG <br>\n",
    ">sampleDNA2 length=22 <br>\n",
    "AAGGCCTTAAGGCCTTAAGGCC <br>\n",
    ">sampleDNA3 length=24 <br>\n",
    "AAGGCCTTAAGGCCTTAAGGCCTT <br>"
   ]
  },
  {
   "cell_type": "markdown",
   "metadata": {},
   "source": [
    "次に, これらの配列をリストに書き込んだ後ファイルに書き込む."
   ]
  },
  {
   "cell_type": "markdown",
   "metadata": {},
   "source": [
    "まずそれぞれの配列の説明をseqDescsというリストに書き込む"
   ]
  },
  {
   "cell_type": "code",
   "execution_count": 1,
   "metadata": {},
   "outputs": [],
   "source": [
    "seqDescs = [\"sampleDNA length=20\", \"sampleDNA2 length=22\", \"sampleDNA3 length=24\"]"
   ]
  },
  {
   "cell_type": "markdown",
   "metadata": {},
   "source": [
    "次にそれぞれの配列をseqsというリストに書き込む"
   ]
  },
  {
   "cell_type": "code",
   "execution_count": 2,
   "metadata": {},
   "outputs": [],
   "source": [
    "seqs = [\"AAGGCCTTAAGGCCTTAAGG\", \"AAGGCCTTAAGGCCTTAAGGCC\", \"AAGGCCTTAAGGCCTTAAGGCCTT\"]"
   ]
  },
  {
   "cell_type": "markdown",
   "metadata": {},
   "source": [
    "これらのリストに含まれる配列とdescriptionをsampleDNAs.fastaというファイルに書き込む"
   ]
  },
  {
   "cell_type": "code",
   "execution_count": 3,
   "metadata": {},
   "outputs": [],
   "source": [
    "f = open(\"/Users/Sora 1/Desktop/sampleDNAs.fasta\", \"w\") # 一つ目の\"\"にはファイルのpathを入れる. 二つ目の\"\"にはw (writeモード) を入れ, 書き込み可能な状態で開く\n",
    "for i in range(len(seqDescs)): #seqDescsの要素数だけ繰り返す\n",
    "    f.write(f\">{seqDescs[i]}\\n{seqs[i]}\\n\") #>の後にseqDescsのi番目の要素を書く. \\n で改行した後にseqsのi番目の要素を書き込む. (Pythonでは\"\\n\"が改行を示す) 次の>に備えて\\nで改行する.\n",
    "f.close() # openしたので閉じる."
   ]
  },
  {
   "cell_type": "markdown",
   "metadata": {},
   "source": [
    "ここで, fから始まる行ではファイルを書き込み(write)モードで開いている. 指定したディレクトリにファイルが存在しなければ新たに作成する. <br>\n",
    "次のfor文では, 回数にseqDescsのリストの要素数を指定しているため, seqDescsの数が変動しても対応した回数だけ繰り返す. <br>\n",
    "これにより, 配列の個数と同じ回数だけloopを繰り返すことができる. "
   ]
  },
  {
   "cell_type": "markdown",
   "metadata": {},
   "source": [
    "## 2. 作った配列を読み込み, 中身を確認する"
   ]
  },
  {
   "cell_type": "markdown",
   "metadata": {},
   "source": [
    "まず, BiopythonからSeqIOというモジュールをimportする"
   ]
  },
  {
   "cell_type": "code",
   "execution_count": 4,
   "metadata": {},
   "outputs": [],
   "source": [
    "from Bio import SeqIO "
   ]
  },
  {
   "cell_type": "markdown",
   "metadata": {},
   "source": [
    "先ほど作ったファイルを開き, 中身を要素ごとにprintすることで確認する"
   ]
  },
  {
   "cell_type": "code",
   "execution_count": 5,
   "metadata": {},
   "outputs": [
    {
     "name": "stdout",
     "output_type": "stream",
     "text": [
      "sampleDNA\n",
      "sampleDNA length=20\n",
      "AAGGCCTTAAGGCCTTAAGG\n",
      "\n",
      "ID: sampleDNA\n",
      "Name: sampleDNA\n",
      "Description: sampleDNA length=20\n",
      "Number of features: 0\n",
      "Seq('AAGGCCTTAAGGCCTTAAGG', SingleLetterAlphabet())\n",
      "\n",
      "\n",
      "sampleDNA2\n",
      "sampleDNA2 length=22\n",
      "AAGGCCTTAAGGCCTTAAGGCC\n",
      "\n",
      "ID: sampleDNA2\n",
      "Name: sampleDNA2\n",
      "Description: sampleDNA2 length=22\n",
      "Number of features: 0\n",
      "Seq('AAGGCCTTAAGGCCTTAAGGCC', SingleLetterAlphabet())\n",
      "\n",
      "\n",
      "sampleDNA3\n",
      "sampleDNA3 length=24\n",
      "AAGGCCTTAAGGCCTTAAGGCCTT\n",
      "\n",
      "ID: sampleDNA3\n",
      "Name: sampleDNA3\n",
      "Description: sampleDNA3 length=24\n",
      "Number of features: 0\n",
      "Seq('AAGGCCTTAAGGCCTTAAGGCCTT', SingleLetterAlphabet())\n",
      "\n",
      "\n"
     ]
    }
   ],
   "source": [
    "with open(\"/Users/Sora 1/Desktop/sampleDNAs.fasta\") as handle: #\"\"の間にファイルのpathを記入する. handleでファイルを開くことができる. withで開くとcloseの必要がない\n",
    "    for record in SeqIO.parse(handle, \"fasta\"):  #fasta形式で開き, 配列の数だけ以下を繰り返す.\n",
    "        print(record.id) # recordのid, すなわち>の後の最初のスペースまでを取り出す\n",
    "        print(record.description) # recordのdescription, すなわち>の行の>以外を全て取り出す\n",
    "        print(record.seq) # recordのsequence, すなわち>の次の行を取り出す\n",
    "        print() #見やすくするためにrecordの前に一行空ける\n",
    "        print(record) #recordの中身を見る\n",
    "        print(\"\\n\") #見やすくするために各配列間に二行空ける. \n",
    "        "
   ]
  },
  {
   "cell_type": "markdown",
   "metadata": {},
   "source": [
    "SeqIOによってファイルの読み書きが可能になっている. <br>\n",
    "各エントリー(配列)がSeqRecord型のオブジェクトとして保存されており, for文により一つ一つを取り出し, それぞれの成分をprintすることで中身を確認している. "
   ]
  },
  {
   "cell_type": "markdown",
   "metadata": {},
   "source": [
    "## 3. それぞれの配列のTm値, GC率を計算する"
   ]
  },
  {
   "cell_type": "markdown",
   "metadata": {},
   "source": [
    "BiopythonからTm値を計算するためのMeltingTempとGC率を計算するためのGCをimportする"
   ]
  },
  {
   "cell_type": "code",
   "execution_count": 6,
   "metadata": {},
   "outputs": [],
   "source": [
    "from Bio.SeqUtils import MeltingTemp as mt #mtとしてimportしたため, コード上で使用する際にはmtで十分(下記コード参照)\n",
    "from Bio.SeqUtils import GC"
   ]
  },
  {
   "cell_type": "markdown",
   "metadata": {},
   "source": [
    "作成したファイルから配列を取り出し, Tm値, GC率を計算して一つの配列の情報をtupleに入れ, それらのtupleを要素にもつlistを作成する"
   ]
  },
  {
   "cell_type": "code",
   "execution_count": 7,
   "metadata": {},
   "outputs": [
    {
     "name": "stdout",
     "output_type": "stream",
     "text": [
      "[('sampleDNA length=20', '62.11', 50.0, Seq('AAGGCCTTAAGGCCTTAAGG', SingleLetterAlphabet())), ('sampleDNA2 length=22', '68.20', 54.54545454545455, Seq('AAGGCCTTAAGGCCTTAAGGCC', SingleLetterAlphabet())), ('sampleDNA3 length=24', '69.57', 50.0, Seq('AAGGCCTTAAGGCCTTAAGGCCTT', SingleLetterAlphabet()))]\n"
     ]
    }
   ],
   "source": [
    "with open(\"/Users/Sora 1/Desktop/sampleDNAs.fasta\") as handle: #作成したファイルを開く\n",
    "    Tm = [] #配列とそれらの情報を書き込むためのリストを用意する\n",
    "    for record in SeqIO.parse(handle, \"fasta\"): #record(配列)の個数だけ以下を繰り返す\n",
    "        myseq = record.seq #配列をmyseqに格納\n",
    "        meltTemp = '%0.2f' % mt.Tm_NN(myseq, nn_table=mt.DNA_NN1) # myseqのTm値を計算. \"%0.2f\"で小数点以下2桁までのfloat(小数)が返るようにしている.\n",
    "        GCcontent = GC(myseq) #GCcontentに配列のGC率を格納\n",
    "        desc = record.description #descに配列の説明を格納\n",
    "        seqInfo = desc, meltTemp, GCcontent, myseq #これらを順番通りに要素にもつtupleとしてseqInfoを作成\n",
    "        Tm.append(seqInfo) #TmというlistにseqInfoを要素として追加\n",
    "print(Tm)"
   ]
  },
  {
   "cell_type": "markdown",
   "metadata": {},
   "source": [
    "なお, 今回はDNA-DNA二本鎖のTm値を Breslauer '86 をもとに算出したが, MeltingTempモジュールを用いて Sugimoto '96 をもとに算出したり, DNA-RNA二本鎖, RNA-RNA二本鎖のTm値を求めることも可能である. (BiopythonのHPを参照) <br>\n",
    "\n",
    "また, meltTempに代入する値は \"%0.2f\"の2を他の数字に変えることで小数点以下の桁数を変更できる (例: \"%0.3f\"にすると小数点以下3桁まで計算). <br>\n",
    "同様にGC(myseq)の前に \"%0.2f %\" を代入してGC率の小数点以下を二桁のみ表示することも可能である. "
   ]
  },
  {
   "cell_type": "markdown",
   "metadata": {},
   "source": [
    "## 4. 計算した値を書き加えた新しいファイルを作成する"
   ]
  },
  {
   "cell_type": "markdown",
   "metadata": {},
   "source": [
    "listであるTm内のそれぞれのtupleから情報を抽出して, fileに書き込む"
   ]
  },
  {
   "cell_type": "code",
   "execution_count": 8,
   "metadata": {},
   "outputs": [],
   "source": [
    "f = open(\"/Users/Sora 1/Desktop/modSampleDNAs.fasta\", \"w\")\n",
    "for items in Tm:\n",
    "    f.write(f\">{items[0]} Tm={items[1]} GCcontent={items[2]}\\n{items[3]}\\n\")\n",
    "f.close()"
   ]
  },
  {
   "cell_type": "markdown",
   "metadata": {},
   "source": [
    "Tm内の各tupleをitemsとして取り出し, tuple内の要素をitems[]で抽出し, 共通の文字列(\"Tm=\"や\"GCcontent=\"など)と組み合わせて書き込んでいる. <br>\n",
    "同一の名前のファイルがすでに存在する場合には新しく作成されたファイルに上書きされるが, w (=write) の代わりに a (=append) を使用すると既存のファイルに書き足すことができる. <br>\n",
    "\n",
    "これにより作成されるファイルの中身は以下の通りである.<br>"
   ]
  },
  {
   "cell_type": "raw",
   "metadata": {},
   "source": [
    ">sampleDNA length=20 Tm=62.11 GCcontent=50.0<br>\n",
    "AAGGCCTTAAGGCCTTAAGG<br>\n",
    ">sampleDNA2 length=22 Tm=68.20 GCcontent=54.54545454545455<br>\n",
    "AAGGCCTTAAGGCCTTAAGGCC<br>\n",
    ">sampleDNA3 length=24 Tm=69.57 GCcontent=50.0<br>\n",
    "AAGGCCTTAAGGCCTTAAGGCCTT<br>"
   ]
  },
  {
   "cell_type": "markdown",
   "metadata": {},
   "source": [
    "先ほどと同様にSeqIOを用いてファイルを読み込めることを確認する"
   ]
  },
  {
   "cell_type": "code",
   "execution_count": 9,
   "metadata": {},
   "outputs": [
    {
     "name": "stdout",
     "output_type": "stream",
     "text": [
      "sampleDNA\n",
      "sampleDNA length=20 Tm=62.11 GCcontent=50.0\n",
      "AAGGCCTTAAGGCCTTAAGG\n",
      "\n",
      "ID: sampleDNA\n",
      "Name: sampleDNA\n",
      "Description: sampleDNA length=20 Tm=62.11 GCcontent=50.0\n",
      "Number of features: 0\n",
      "Seq('AAGGCCTTAAGGCCTTAAGG', SingleLetterAlphabet())\n",
      "\n",
      "sampleDNA2\n",
      "sampleDNA2 length=22 Tm=68.20 GCcontent=54.54545454545455\n",
      "AAGGCCTTAAGGCCTTAAGGCC\n",
      "\n",
      "ID: sampleDNA2\n",
      "Name: sampleDNA2\n",
      "Description: sampleDNA2 length=22 Tm=68.20 GCcontent=54.54545454545455\n",
      "Number of features: 0\n",
      "Seq('AAGGCCTTAAGGCCTTAAGGCC', SingleLetterAlphabet())\n",
      "\n",
      "sampleDNA3\n",
      "sampleDNA3 length=24 Tm=69.57 GCcontent=50.0\n",
      "AAGGCCTTAAGGCCTTAAGGCCTT\n",
      "\n",
      "ID: sampleDNA3\n",
      "Name: sampleDNA3\n",
      "Description: sampleDNA3 length=24 Tm=69.57 GCcontent=50.0\n",
      "Number of features: 0\n",
      "Seq('AAGGCCTTAAGGCCTTAAGGCCTT', SingleLetterAlphabet())\n",
      "\n"
     ]
    }
   ],
   "source": [
    "with open(\"/Users/Sora 1/Desktop/modSampleDNAs.fasta\") as handle: \n",
    "    for record in SeqIO.parse(handle, \"fasta\"):  \n",
    "        print(record.id) \n",
    "        print(record.description) \n",
    "        print(record.seq) \n",
    "        print()\n",
    "        print(record)\n",
    "        print()"
   ]
  },
  {
   "cell_type": "markdown",
   "metadata": {},
   "source": [
    "## 5. 無作為に作成した配列から特定の条件を満たすものだけを取得する"
   ]
  },
  {
   "cell_type": "markdown",
   "metadata": {},
   "source": [
    "以上では便宜的に作った配列を使用したが, 実際にはデータベース上の配列を使用したり, 自らデザインした配列に対してこれらの作業を行うことが想定される. <br>\n",
    "その場合には望みの特徴を持つ配列のみを取得することが望ましい. <br>\n",
    "したがって, 望みの特徴を持つ配列を選別する関数を作成し, 取得する."
   ]
  },
  {
   "cell_type": "markdown",
   "metadata": {},
   "source": [
    "<b><i>def 関数名(引数):<br>\n",
    "       引数に対する処理</i></b> \n",
    "    \n",
    "によって任意の関数を作成することができる. <br>\n",
    "引数には任意の数設定することができるが, 今回はseqという一つの引数に含まれる配列が\n",
    "1. 単一の塩基を4連続以上で持たないこと\n",
    "2. GC率が35%以上65%以下であること <br>\n",
    "\n",
    "を満たすと True を返すqualityCheckという名前の関数を作成する. "
   ]
  },
  {
   "cell_type": "code",
   "execution_count": 10,
   "metadata": {},
   "outputs": [],
   "source": [
    "def qualityCheck(seq): #\"seq\"という引数に対して以下の処理を行う\"qualityFilter\"という関数を定義(define)する\n",
    "    if(seq.find(\"AAAA\") == -1 and seq.find(\"TTTT\") == -1 and seq.find(\"GGGG\") == -1 and seq.find(\"CCCC\") == -1): # 4 塩基以上の単一の連続配列を持たない配列を選択 (目的の配列が見つからない時find関数は-1を返す)\n",
    "        if 35 <= GC(seq) <= 65: # GC content が 35 % 以上 65 % 以下のものを選択\n",
    "            return True"
   ]
  },
  {
   "cell_type": "markdown",
   "metadata": {},
   "source": [
    "20 ntのランダムな配列を作成し, qualityCheck関数を用いて目的の特徴を持つ配列のみを選別する."
   ]
  },
  {
   "cell_type": "code",
   "execution_count": 11,
   "metadata": {},
   "outputs": [],
   "source": [
    "import random # randomモジュールを使用してランダム配列を作成\n",
    "\n",
    "n_code = {0: \"A\", 1: \"T\", 2: \"G\", 3:\"C\"} # keyに0から3, valueにA, T, G, Cを持つ辞書 n_code を作成\n",
    "i = 0 # i の初期値を設定\n",
    "goodSeqs = [] # qualityCheck == True の時の配列を格納するリスト\n",
    "badSeqs = {} # qualityCheck != True の時の配列を格納する. 同時にGC率も格納したいため辞書型\n",
    "while i < 100: # i が100未満の時\n",
    "    seq = \"\".join(n_code[random.randint(0,3)] for j in range(25)) # 25塩基のランダム配列を作る. \n",
    "    #0から3のランダムな整数に対応するn_codeのvalueを出力することを25回繰り返した後 join関数でつなげる.\n",
    "    if qualityCheck(seq) == True: \n",
    "        goodSeqs.append(seq) # 目的の特徴を持つ配列はgoodSeqsに追加.\n",
    "        i += 1 #目的の特徴を持つ配列が作れた時のみ i を1増やす\n",
    "    else: #どの程度の割合で目的の特徴を持たない配列があるか確認するためのコード\n",
    "        badSeqs[seq] = GC(seq) # 目的の特徴を持たない配列はbadSeqsに追加\n",
    "        # 4nt以上の連続配列があるのか、GC率が高すぎるor低すぎるのかがわかりやすくなるようGC率もvalueとして格納"
   ]
  },
  {
   "cell_type": "markdown",
   "metadata": {},
   "source": [
    "qualityCheckがTrueとなるような配列を作成した回数をカウントし, 100個作成した際に配列の作成を終了させるよう, while文を書いた. <br>\n",
    "seq の生成にはリストの内包表記を用いた. <br>\n",
    "これは"
   ]
  },
  {
   "cell_type": "raw",
   "metadata": {},
   "source": [
    "bases = [] <br>\n",
    "for j in range(25):<br>\n",
    "    bases.append(n_code[random.randint(0,3)])<br>\n",
    "seq = \"\".join(bases)<br>"
   ]
  },
  {
   "cell_type": "markdown",
   "metadata": {},
   "source": [
    "と同一の処理をしているが, 内包表記を用いると一行で簡潔に書け, また速度も速い. <br>\n",
    "\n",
    "また, qualityCheckで条件を満たした配列はgoodSeqsに記録したが, 条件を満たさなかった配列はbadSeqsに記録した. <br>\n",
    "以下でそれらのデータを実際に確認する."
   ]
  },
  {
   "cell_type": "code",
   "execution_count": 12,
   "metadata": {},
   "outputs": [
    {
     "name": "stdout",
     "output_type": "stream",
     "text": [
      "100\n",
      "['AATTCGTGAGATCTCTAGCTAACAA', 'AAGCCTCAGAATTCATACGCCAGAC', 'CAACAGTCAACTCAGCACAAAGGAT', 'AGCCACCCAAGTTGCGCGCTGTTTA', 'CATGTTGCGGCTGACGCGATAGTAC', 'CCCGCTATACATAATCTAACGTGTA', 'GCCATACATCGATCTACATTGACGT', 'AGTGACAGACTTGGCTGTCACTTGT', 'TAAGGATTCCTCTGCCTTTCTACGG', 'ATGTAAGTACCGCAGATTCCGAGAT']\n",
      "[36.0, 48.0, 44.0, 56.0, 56.0, 40.0, 44.0, 48.0, 48.0, 44.0]\n",
      "42\n",
      "{'CCGCGCGTGCAACCATTGACCCGCA': 68.0, 'GCCCCTATTCTAGGGCCTTTGTATG': 52.0, 'TGCACTTTTAAATGTTGAGCTGCGG': 44.0, 'CTGTATTGGGGTTGGTCCATCTTGG': 52.0, 'CTACCTCGTTTTAGTAGCGGACACG': 52.0, 'CACTTCCCCTTACCACTGGACAGCT': 56.0, 'TCACCATGAGGGCGCCCCGCGTCAC': 72.0, 'GAAGTTTTCAAGCCGGATCGCGCAT': 52.0, 'CAAAGTTATTTTTCCGGGAAATGAA': 32.0, 'TTATTGCCCTATCTCTAAATGAAGT': 32.0, 'CGCTACACTTTTGCGGACAGTCTAT': 48.0, 'GACCCCTGTGTATTTGATTGTCTTA': 40.0, 'TGAGGGGGGTCCAGCGTGCCGAACT': 68.0, 'TTTGTTTTGTGCGATCACGATGTCT': 40.0, 'CATACTTAACTCCCCGTCTTTGCGT': 48.0, 'TGGATCCTGACATATTGGGGAACGA': 48.0, 'AACGAGACAGGTAGAATGTGGGGTA': 48.0, 'ACCGCAAGTACAAAATATACCCGAT': 40.0, 'GGCGACGGTCAGCTGGCCCAGACAT': 68.0, 'AGATCCCTAACTACCCCTCCGCAGG': 60.0, 'CTCGAAATCGTGGATTGGGAAAAAA': 40.0, 'GATGCCATAAAACTTTCCGAGCTTA': 40.0, 'TCCATTAAGAATCTCGTTTAAATGC': 32.0, 'TCCTTCGGGCCTTATTCCCCACGTT': 56.0, 'ACTCACTATGGATTTTTGGTGGCAG': 44.0, 'GCGTACTCCGGAACGCCGCGACTGA': 68.0, 'GAATCGCAGGGAGACTGGGGTCTCA': 60.0, 'GGCCTCGGTTTTACAGCGTAGTGGT': 56.0, 'CGAGTTTTCGAAGACGTCGGTAAGT': 48.0, 'ATATCCAACCCCACGCATAGCGAAA': 48.0, 'TGCAGGGCAGGGGCGTGGCAGGCAG': 76.0, 'AAGATCGCAATCAGTGGCAAAATCT': 40.0, 'CCGTCACAGGGACTACGTCCGGAGG': 68.0, 'GTTAGTGTCGGGGTCAATCGCTCAC': 56.0, 'ACGCTTCGGGGTTGCCAGTGAGCCT': 64.0, 'ATGATGTGGGAGACAGGGGCCCACA': 60.0, 'CCCGTTCGATTCTACCGCATTTTAA': 44.0, 'AATAAGTCACACTTAGAATGGGGGG': 44.0, 'AGACGACACGGGGGCTCCTGGTTGC': 68.0, 'TTGATCTAATAGATATCCATACCTG': 32.0, 'TACACCACCGATATGGGGGGGAGTG': 60.0, 'TGATGATGCCGGTTTTACTGTTCGT': 44.0}\n"
     ]
    }
   ],
   "source": [
    "print(len(goodSeqs)) #すべてprintすると多すぎるため, 100個作成できていることを確認\n",
    "print(goodSeqs[0:10]) #最初の10個の配列を確認\n",
    "print(list(GC(goodSeqs[i]) for i in range(0,10))) #最初の10個の配列のGC率をリストで表示\n",
    "print(len(badSeqs)) #100個のgoodSeqsを作成する間に作成されたbadSeqsの数を確認\n",
    "print(badSeqs) # 実際に中身を見てみる"
   ]
  },
  {
   "cell_type": "markdown",
   "metadata": {},
   "source": [
    "以上の通り, goodSeqsは100個作成されており, そのうち最初の10の配列に関しては条件を満たしていることが確認できた. <br>\n",
    "また, badSeqsには4以上の単一塩基の連続もしくは異常なGC率, あるいはその両方が確認された. <br>\n",
    "以上より, ランダムに生成した配列から目的の特徴を持つ配列を選別できたことを確認できた. \n"
   ]
  },
  {
   "cell_type": "markdown",
   "metadata": {},
   "source": [
    "### 参照:\n",
    "https://biopython.org/wiki/Download <br>\n",
    "https://bi.biopapyrus.jp/python/biopython/seqio.html <br>\n",
    "https://biopython.org/wiki/SeqIO <br>\n",
    "http://biopython.org/DIST/docs/api/Bio.SeqUtils.MeltingTemp-module.html <br>\n",
    "http://biopython.org/DIST/docs/api/Bio.SeqUtils-module.html <br>\n",
    "http://yukke.hateblo.jp/entry/2015/10/05/120924 <br>\n",
    "https://qiita.com/y__sama/items/a2c458de97c4aa5a98e7 <br>"
   ]
  }
 ],
 "metadata": {
  "kernelspec": {
   "display_name": "Python 3",
   "language": "python",
   "name": "python3"
  },
  "language_info": {
   "codemirror_mode": {
    "name": "ipython",
    "version": 3
   },
   "file_extension": ".py",
   "mimetype": "text/x-python",
   "name": "python",
   "nbconvert_exporter": "python",
   "pygments_lexer": "ipython3",
   "version": "3.6.5"
  }
 },
 "nbformat": 4,
 "nbformat_minor": 2
}
